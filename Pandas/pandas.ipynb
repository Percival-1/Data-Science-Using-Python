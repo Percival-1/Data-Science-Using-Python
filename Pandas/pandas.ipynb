{
 "cells": [
  {
   "cell_type": "code",
   "execution_count": 5,
   "id": "6a68cf31-8533-4d71-b0da-af9304ab11d2",
   "metadata": {},
   "outputs": [],
   "source": [
    "import pandas as pd\n",
    "import numpy as np"
   ]
  },
  {
   "cell_type": "markdown",
   "id": "655a5360-bd14-4908-8ec1-fb1a82355d8e",
   "metadata": {},
   "source": [
    "Series through list"
   ]
  },
  {
   "cell_type": "code",
   "execution_count": 4,
   "id": "8d5e0438-16f0-4e7d-b4ce-f14a14f5c6d1",
   "metadata": {},
   "outputs": [
    {
     "data": {
      "text/plain": [
       "0    1\n",
       "1    2\n",
       "2    3\n",
       "3    4\n",
       "4    5\n",
       "dtype: int64"
      ]
     },
     "execution_count": 4,
     "metadata": {},
     "output_type": "execute_result"
    }
   ],
   "source": [
    "lst = [1 , 2 , 3 , 4 , 5]\n",
    "pd.Series(lst)"
   ]
  },
  {
   "cell_type": "markdown",
   "id": "22a0308f-6236-4216-b14e-abc057e1f6c0",
   "metadata": {},
   "source": [
    "Series through Numpy array"
   ]
  },
  {
   "cell_type": "code",
   "execution_count": 6,
   "id": "5953b2b4-5b6c-4ed6-891d-bb890f17bd2f",
   "metadata": {},
   "outputs": [
    {
     "data": {
      "text/plain": [
       "0    1\n",
       "1    2\n",
       "2    3\n",
       "3    4\n",
       "4    5\n",
       "dtype: int64"
      ]
     },
     "execution_count": 6,
     "metadata": {},
     "output_type": "execute_result"
    }
   ],
   "source": [
    "arr = np.array([1 , 2 , 3 , 4 , 5])\n",
    "pd.Series(arr)"
   ]
  },
  {
   "cell_type": "markdown",
   "id": "0422bab3-a215-471e-b10a-6756e702ecd6",
   "metadata": {},
   "source": [
    "giving index from our own end"
   ]
  },
  {
   "cell_type": "code",
   "execution_count": null,
   "id": "6fc3dad0-bae4-4d70-809c-79c9c5544f65",
   "metadata": {},
   "outputs": [],
   "source": []
  }
 ],
 "metadata": {
  "kernelspec": {
   "display_name": "Python 3 (ipykernel)",
   "language": "python",
   "name": "python3"
  },
  "language_info": {
   "codemirror_mode": {
    "name": "ipython",
    "version": 3
   },
   "file_extension": ".py",
   "mimetype": "text/x-python",
   "name": "python",
   "nbconvert_exporter": "python",
   "pygments_lexer": "ipython3",
   "version": "3.13.2"
  }
 },
 "nbformat": 4,
 "nbformat_minor": 5
}
