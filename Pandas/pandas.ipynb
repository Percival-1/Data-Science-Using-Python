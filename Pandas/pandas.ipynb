{
 "cells": [
  {
   "cell_type": "code",
   "execution_count": 2,
   "id": "6a68cf31-8533-4d71-b0da-af9304ab11d2",
   "metadata": {},
   "outputs": [],
   "source": [
    "import pandas as pd\n",
    "import numpy as np"
   ]
  },
  {
   "cell_type": "markdown",
   "id": "655a5360-bd14-4908-8ec1-fb1a82355d8e",
   "metadata": {},
   "source": [
    "Series through list"
   ]
  },
  {
   "cell_type": "code",
   "execution_count": 4,
   "id": "8d5e0438-16f0-4e7d-b4ce-f14a14f5c6d1",
   "metadata": {},
   "outputs": [
    {
     "data": {
      "text/plain": [
       "0    1\n",
       "1    2\n",
       "2    3\n",
       "3    4\n",
       "4    5\n",
       "dtype: int64"
      ]
     },
     "execution_count": 4,
     "metadata": {},
     "output_type": "execute_result"
    }
   ],
   "source": [
    "lst = [1 , 2 , 3 , 4 , 5]\n",
    "pd.Series(lst)"
   ]
  },
  {
   "cell_type": "markdown",
   "id": "22a0308f-6236-4216-b14e-abc057e1f6c0",
   "metadata": {},
   "source": [
    "Series through Numpy array"
   ]
  },
  {
   "cell_type": "code",
   "execution_count": 6,
   "id": "5953b2b4-5b6c-4ed6-891d-bb890f17bd2f",
   "metadata": {},
   "outputs": [
    {
     "data": {
      "text/plain": [
       "0    1\n",
       "1    2\n",
       "2    3\n",
       "3    4\n",
       "4    5\n",
       "dtype: int64"
      ]
     },
     "execution_count": 6,
     "metadata": {},
     "output_type": "execute_result"
    }
   ],
   "source": [
    "arr = np.array([1 , 2 , 3 , 4 , 5])\n",
    "pd.Series(arr)"
   ]
  },
  {
   "cell_type": "markdown",
   "id": "0422bab3-a215-471e-b10a-6756e702ecd6",
   "metadata": {},
   "source": [
    "giving index from our own end"
   ]
  },
  {
   "cell_type": "code",
   "execution_count": 8,
   "id": "6fc3dad0-bae4-4d70-809c-79c9c5544f65",
   "metadata": {},
   "outputs": [
    {
     "data": {
      "text/plain": [
       "1      Pikachu\n",
       "2       Raichu\n",
       "3    Balbasaur\n",
       "4    Blastoise\n",
       "dtype: object"
      ]
     },
     "execution_count": 8,
     "metadata": {},
     "output_type": "execute_result"
    }
   ],
   "source": [
    "pd.Series(data = ['Pikachu' , 'Raichu' , 'Balbasaur' , 'Blastoise'] , index = [1 , 2 , 3 , 4])"
   ]
  },
  {
   "cell_type": "markdown",
   "id": "e985f584-5408-46b2-8ab2-72cef1b8f85c",
   "metadata": {},
   "source": [
    "Series through Dictionaries"
   ]
  },
  {
   "cell_type": "code",
   "execution_count": 11,
   "id": "49072f21-d462-4722-9d6a-2e121e4a27a9",
   "metadata": {},
   "outputs": [
    {
     "data": {
      "text/plain": [
       "day_1    100\n",
       "day_2    150\n",
       "day_3     50\n",
       "day_4    200\n",
       "dtype: int64"
      ]
     },
     "execution_count": 11,
     "metadata": {},
     "output_type": "execute_result"
    }
   ],
   "source": [
    "steps = {'day_1' : 100 , 'day_2' : 150 , 'day_3' : 50 , 'day_4' : 200}\n",
    "pd.Series(steps)"
   ]
  },
  {
   "cell_type": "markdown",
   "id": "83ba1413-d106-4eb0-ba13-8f468329b08d",
   "metadata": {},
   "source": [
    "using repeat function along with creating a Series"
   ]
  },
  {
   "cell_type": "code",
   "execution_count": 12,
   "id": "ea6f92c0-cb22-48a1-8b88-c324cb9be714",
   "metadata": {},
   "outputs": [
    {
     "data": {
      "text/plain": [
       "0    5\n",
       "0    5\n",
       "0    5\n",
       "0    5\n",
       "dtype: int64"
      ]
     },
     "execution_count": 12,
     "metadata": {},
     "output_type": "execute_result"
    }
   ],
   "source": [
    "pd.Series(5).repeat(4)"
   ]
  },
  {
   "cell_type": "markdown",
   "id": "d4d3c6f3-1f3f-4af4-ab6d-d38f9ec1b6df",
   "metadata": {},
   "source": [
    "we can use the reset function to make the index accurate"
   ]
  },
  {
   "cell_type": "code",
   "execution_count": 15,
   "id": "cee03b85-54f2-472d-9eb7-31207ae2944f",
   "metadata": {},
   "outputs": [
    {
     "data": {
      "text/plain": [
       "0    5\n",
       "1    5\n",
       "2    5\n",
       "dtype: int64"
      ]
     },
     "execution_count": 15,
     "metadata": {},
     "output_type": "execute_result"
    }
   ],
   "source": [
    "pd.Series(5).repeat(3).reset_index(drop = True)"
   ]
  },
  {
   "cell_type": "code",
   "execution_count": 21,
   "id": "30b87104-8613-43e3-bd64-f6d6b9244c70",
   "metadata": {},
   "outputs": [
    {
     "data": {
      "text/plain": [
       "0    10\n",
       "1    10\n",
       "2    10\n",
       "3    10\n",
       "4    10\n",
       "5    12\n",
       "6    12\n",
       "dtype: int64"
      ]
     },
     "execution_count": 21,
     "metadata": {},
     "output_type": "execute_result"
    }
   ],
   "source": [
    "s = pd.Series([10,12]).repeat([5 , 2]).reset_index(drop = True)\n",
    "s"
   ]
  },
  {
   "cell_type": "markdown",
   "id": "9950e469-4a5a-40af-b170-2f6465052fa9",
   "metadata": {},
   "source": [
    "Accessing and slicing elements in a Series"
   ]
  },
  {
   "cell_type": "code",
   "execution_count": 22,
   "id": "75a489b4-8afb-420d-9d68-fde238998890",
   "metadata": {},
   "outputs": [
    {
     "data": {
      "text/plain": [
       "np.int64(10)"
      ]
     },
     "execution_count": 22,
     "metadata": {},
     "output_type": "execute_result"
    }
   ],
   "source": [
    "s[2]"
   ]
  },
  {
   "cell_type": "code",
   "execution_count": 23,
   "id": "a22e2d4b-1b40-4ad3-b108-ee044e4a68e6",
   "metadata": {},
   "outputs": [
    {
     "data": {
      "text/plain": [
       "0    10\n",
       "1    10\n",
       "2    10\n",
       "3    10\n",
       "4    10\n",
       "5    12\n",
       "6    12\n",
       "dtype: int64"
      ]
     },
     "execution_count": 23,
     "metadata": {},
     "output_type": "execute_result"
    }
   ],
   "source": [
    "s[:]"
   ]
  },
  {
   "cell_type": "code",
   "execution_count": 24,
   "id": "5146792c-99af-4d26-95f7-004715249aab",
   "metadata": {},
   "outputs": [
    {
     "data": {
      "text/plain": [
       "0    10\n",
       "dtype: int64"
      ]
     },
     "execution_count": 24,
     "metadata": {},
     "output_type": "execute_result"
    }
   ],
   "source": [
    "s[0:1]"
   ]
  },
  {
   "cell_type": "code",
   "execution_count": 25,
   "id": "9322f888-31e4-4674-be4b-f56f70979eaf",
   "metadata": {},
   "outputs": [
    {
     "data": {
      "text/plain": [
       "1    10\n",
       "2    10\n",
       "3    10\n",
       "4    10\n",
       "5    12\n",
       "dtype: int64"
      ]
     },
     "execution_count": 25,
     "metadata": {},
     "output_type": "execute_result"
    }
   ],
   "source": [
    "s[1:-1]"
   ]
  },
  {
   "cell_type": "code",
   "execution_count": 26,
   "id": "f4ef1951-1fc6-458b-bede-0880fd12a950",
   "metadata": {},
   "outputs": [
    {
     "data": {
      "text/plain": [
       "0    10\n",
       "2    10\n",
       "4    10\n",
       "dtype: int64"
      ]
     },
     "execution_count": 26,
     "metadata": {},
     "output_type": "execute_result"
    }
   ],
   "source": [
    "s[:-1:2]"
   ]
  },
  {
   "cell_type": "code",
   "execution_count": 27,
   "id": "5176238e-175e-445a-a8d5-b701d8997bd6",
   "metadata": {},
   "outputs": [
    {
     "data": {
      "text/plain": [
       "6    12\n",
       "5    12\n",
       "4    10\n",
       "3    10\n",
       "2    10\n",
       "1    10\n",
       "0    10\n",
       "dtype: int64"
      ]
     },
     "execution_count": 27,
     "metadata": {},
     "output_type": "execute_result"
    }
   ],
   "source": [
    "s[-1: :-1]"
   ]
  },
  {
   "cell_type": "markdown",
   "id": "64b9fd6b-9044-4295-ab4b-0be4cbe077e3",
   "metadata": {},
   "source": [
    "### b) Aggregate functions on pandas Series"
   ]
  },
  {
   "cell_type": "markdown",
   "id": "64124254-4cb0-43bb-b9ca-2bf6f2cc76fd",
   "metadata": {},
   "source": [
    "pd.Series.aggregate() function aggregate using one or more operation over the specified axis in the given series object."
   ]
  },
  {
   "cell_type": "code",
   "execution_count": 30,
   "id": "347134e7-f7e4-4bd8-b851-3bd4c7df3401",
   "metadata": {},
   "outputs": [
    {
     "data": {
      "text/plain": [
       "min     1\n",
       "max     5\n",
       "sum    15\n",
       "dtype: int64"
      ]
     },
     "execution_count": 30,
     "metadata": {},
     "output_type": "execute_result"
    }
   ],
   "source": [
    "s = pd.Series([1 , 2 , 3 , 4 , 5])\n",
    "s.agg(['min' , 'max' , 'sum'])"
   ]
  },
  {
   "cell_type": "markdown",
   "id": "771a6824-be77-43f2-9cfc-cebe9a933c6d",
   "metadata": {},
   "source": [
    "### c) Series absolute function"
   ]
  },
  {
   "cell_type": "markdown",
   "id": "d9c52e5c-5dda-447f-99b7-74da9c322085",
   "metadata": {},
   "source": [
    "Pandas Series.abs() method is used to get absolute numeric value of each element in Series/DataFrame"
   ]
  },
  {
   "cell_type": "code",
   "execution_count": 31,
   "id": "7ea21c1d-2634-4a58-96d1-3cb4c2f376c2",
   "metadata": {},
   "outputs": [
    {
     "data": {
      "text/plain": [
       "0    1\n",
       "1    2\n",
       "2    3\n",
       "3    4\n",
       "4    5\n",
       "5    6\n",
       "6    7\n",
       "dtype: int64"
      ]
     },
     "execution_count": 31,
     "metadata": {},
     "output_type": "execute_result"
    }
   ],
   "source": [
    "s = pd.Series([-1 ,2 , 3 , -4 , 5 , -6 , -7])\n",
    "s.abs()"
   ]
  },
  {
   "cell_type": "markdown",
   "id": "5be8d0f3-cc2d-403c-93e6-6445174d950a",
   "metadata": {},
   "source": [
    "### d) Appending Series"
   ]
  },
  {
   "cell_type": "markdown",
   "id": "bc5b05f8-f0ee-44bf-9eb3-8d4817209b38",
   "metadata": {},
   "source": [
    "Pandas Series.append() function is used to concatenate two or more Series object"
   ]
  },
  {
   "cell_type": "code",
   "execution_count": 35,
   "id": "eca378ff-78bb-469e-ab57-e05703ea1d2f",
   "metadata": {},
   "outputs": [
    {
     "data": {
      "text/plain": [
       "0   -1\n",
       "1    2\n",
       "2   -3\n",
       "0    1\n",
       "1   -2\n",
       "2    3\n",
       "dtype: int64"
      ]
     },
     "execution_count": 35,
     "metadata": {},
     "output_type": "execute_result"
    }
   ],
   "source": [
    "sr1 = pd.Series([-1 , 2 , -3])\n",
    "sr2 = pd.Series([1 , -2 , 3])\n",
    "pd.concat([sr1 , sr2])"
   ]
  },
  {
   "cell_type": "code",
   "execution_count": 36,
   "id": "93bfbbb5-3b52-4276-b2d7-39568dc59abc",
   "metadata": {},
   "outputs": [
    {
     "data": {
      "text/plain": [
       "0   -1\n",
       "1    2\n",
       "2   -3\n",
       "3    1\n",
       "4   -2\n",
       "5    3\n",
       "dtype: int64"
      ]
     },
     "execution_count": 36,
     "metadata": {},
     "output_type": "execute_result"
    }
   ],
   "source": [
    "pd.concat([sr1 , sr2]).reset_index(drop = True)"
   ]
  },
  {
   "cell_type": "markdown",
   "id": "18b407a3-4a69-423d-83ab-a25b3b9e8950",
   "metadata": {},
   "source": [
    "### e) Astype function"
   ]
  },
  {
   "cell_type": "markdown",
   "id": "1f66470f-f57f-4b2a-8052-55f4c63af97d",
   "metadata": {},
   "source": [
    "it is used to change data type of a series."
   ]
  },
  {
   "cell_type": "code",
   "execution_count": 37,
   "id": "75cc0675-22a9-4dcc-b5db-7a34953370b7",
   "metadata": {},
   "outputs": [
    {
     "data": {
      "text/plain": [
       "pandas.core.series.Series"
      ]
     },
     "execution_count": 37,
     "metadata": {},
     "output_type": "execute_result"
    }
   ],
   "source": [
    "type(sr1)"
   ]
  },
  {
   "cell_type": "code",
   "execution_count": 38,
   "id": "79b8749c-8925-4e8e-81e8-76eb671db333",
   "metadata": {},
   "outputs": [
    {
     "data": {
      "text/plain": [
       "numpy.int64"
      ]
     },
     "execution_count": 38,
     "metadata": {},
     "output_type": "execute_result"
    }
   ],
   "source": [
    "type(sr1[0])"
   ]
  },
  {
   "cell_type": "code",
   "execution_count": 40,
   "id": "9deae470-89aa-4694-b463-4e2add9d462c",
   "metadata": {},
   "outputs": [
    {
     "data": {
      "text/plain": [
       "0   -1.0\n",
       "1    2.0\n",
       "2   -3.0\n",
       "dtype: float64"
      ]
     },
     "execution_count": 40,
     "metadata": {},
     "output_type": "execute_result"
    }
   ],
   "source": [
    "sr1.astype('float')"
   ]
  },
  {
   "cell_type": "markdown",
   "id": "b3cf7be3-be34-43b4-afac-bfbcdf1977c3",
   "metadata": {},
   "source": [
    "### f) Between function"
   ]
  },
  {
   "cell_type": "markdown",
   "id": "939f559d-29c4-48a7-baf1-d44d566ba3cf",
   "metadata": {},
   "source": [
    "Pandas between() method is used on Series to check whichvalue lies in between first and second argument"
   ]
  },
  {
   "cell_type": "code",
   "execution_count": 3,
   "id": "820e2641-d4ee-47f8-a9ef-3941b13ff463",
   "metadata": {},
   "outputs": [
    {
     "data": {
      "text/plain": [
       "0    1\n",
       "1    2\n",
       "2    3\n",
       "3    4\n",
       "4    5\n",
       "5    6\n",
       "6    7\n",
       "7    8\n",
       "dtype: int64"
      ]
     },
     "execution_count": 3,
     "metadata": {},
     "output_type": "execute_result"
    }
   ],
   "source": [
    "s = pd.Series([1  , 2 , 3 , 4 , 5 , 6 , 7 , 8])\n",
    "s"
   ]
  },
  {
   "cell_type": "code",
   "execution_count": 4,
   "id": "bdf90662-7811-4661-8b51-84ed3fb18ea4",
   "metadata": {},
   "outputs": [
    {
     "data": {
      "text/plain": [
       "0    False\n",
       "1     True\n",
       "2     True\n",
       "3     True\n",
       "4     True\n",
       "5    False\n",
       "6    False\n",
       "7    False\n",
       "dtype: bool"
      ]
     },
     "execution_count": 4,
     "metadata": {},
     "output_type": "execute_result"
    }
   ],
   "source": [
    "s.between(2,5)"
   ]
  },
  {
   "cell_type": "markdown",
   "id": "b3d5c148-bf6a-4735-8fa2-1cc3df09bc2f",
   "metadata": {},
   "source": [
    "### g) All Strings functions can be used to extract or modify texts in a Series"
   ]
  },
  {
   "cell_type": "code",
   "execution_count": 31,
   "id": "76076138-59e6-4e9f-8b4b-024c38e10a15",
   "metadata": {},
   "outputs": [],
   "source": [
    "s = pd.Series(['   Pikachu Kumar' , 'Balbasaur Sharma' , 'Raichu Shankar' , 'Blastoise Kumar'])"
   ]
  },
  {
   "cell_type": "markdown",
   "id": "20a7aa52-0876-48a4-99bc-cd952fd941af",
   "metadata": {},
   "source": [
    "Upper and Lower function"
   ]
  },
  {
   "cell_type": "code",
   "execution_count": 41,
   "id": "40b2f533-ccb3-4ebc-93a5-769b524a37a3",
   "metadata": {},
   "outputs": [
    {
     "name": "stdout",
     "output_type": "stream",
     "text": [
      "0       PIKACHU KUMAR\n",
      "1    BALBASAUR SHARMA\n",
      "2      RAICHU SHANKAR\n",
      "3     BLASTOISE KUMAR\n",
      "dtype: object\n",
      "\n",
      "0       pikachu kumar\n",
      "1    balbasaur sharma\n",
      "2      raichu shankar\n",
      "3     blastoise kumar\n",
      "dtype: object\n"
     ]
    }
   ],
   "source": [
    "print(s.str.upper())\n",
    "print()\n",
    "print(s.str.lower())"
   ]
  },
  {
   "cell_type": "markdown",
   "id": "1fa1bb0c-a35b-4642-ba65-a47f46fe0054",
   "metadata": {},
   "source": [
    "Length function"
   ]
  },
  {
   "cell_type": "code",
   "execution_count": 14,
   "id": "dd01b317-5b00-44d9-9a11-cd0eb2d020d0",
   "metadata": {},
   "outputs": [
    {
     "name": "stdout",
     "output_type": "stream",
     "text": [
      "   Pikachu Kumar 16\n",
      "Balbasaur Sharma 16\n",
      "Raichu Shankar 14\n",
      "Blastoise Kumar 15\n"
     ]
    }
   ],
   "source": [
    "for i in s:\n",
    "    print(i ,len(i))"
   ]
  },
  {
   "cell_type": "markdown",
   "id": "f6a761fc-4e1a-44f5-8e1e-98b2d7eb78b3",
   "metadata": {},
   "source": [
    "Strip Function"
   ]
  },
  {
   "cell_type": "code",
   "execution_count": 32,
   "id": "7ae6de53-ce03-460f-8662-29c82f6ecccd",
   "metadata": {},
   "outputs": [
    {
     "name": "stdout",
     "output_type": "stream",
     "text": [
      "Pikachu Kumar 13\n",
      "Balbasaur Sharma 16\n",
      "Raichu Shankar 14\n",
      "Blastoise Kumar 15\n"
     ]
    }
   ],
   "source": [
    "s = s.str.strip()\n",
    "for i in s:\n",
    "    print(i , len(i))"
   ]
  },
  {
   "cell_type": "markdown",
   "id": "920f5a8a-7ac9-46ed-a12b-c1a6a18a5fc6",
   "metadata": {},
   "source": [
    "split function"
   ]
  },
  {
   "cell_type": "code",
   "execution_count": 39,
   "id": "bd3912dd-2041-41fa-8259-199b8267516b",
   "metadata": {},
   "outputs": [
    {
     "name": "stdout",
     "output_type": "stream",
     "text": [
      "['Pikachu', 'Kumar']\n",
      "['Balbasaur', 'Sharma']\n",
      "['Raichu', 'Shankar']\n",
      "['Blastoise', 'Kumar']\n",
      "\n"
     ]
    },
    {
     "data": {
      "text/plain": [
       "['Pikachu', 'Kumar']"
      ]
     },
     "execution_count": 39,
     "metadata": {},
     "output_type": "execute_result"
    }
   ],
   "source": [
    "p = s.str.split()\n",
    "for i in p:\n",
    "    print(i)\n",
    "print()\n",
    "p[0]"
   ]
  },
  {
   "cell_type": "markdown",
   "id": "a6399220-c7c7-4a9b-820b-ca880a56caa2",
   "metadata": {},
   "source": [
    "Contains function"
   ]
  },
  {
   "cell_type": "code",
   "execution_count": 57,
   "id": "be085cc2-78ce-4b71-b777-ce7b582f00be",
   "metadata": {},
   "outputs": [
    {
     "data": {
      "text/plain": [
       "0     True\n",
       "1     True\n",
       "2    False\n",
       "3    False\n",
       "dtype: bool"
      ]
     },
     "execution_count": 57,
     "metadata": {},
     "output_type": "execute_result"
    }
   ],
   "source": [
    "s = pd.Series(['Pikachu K@umar' , 'Bal@basaur Sharma' , 'Raichu Shankar' , 'Blastoise Kumar'])\n",
    "s.str.contains('@')"
   ]
  },
  {
   "cell_type": "markdown",
   "id": "fe3adeb5-018d-44db-a9f4-faeb63c51bf3",
   "metadata": {},
   "source": [
    "replace function"
   ]
  },
  {
   "cell_type": "code",
   "execution_count": 50,
   "id": "f3982c6a-62d6-4cac-ae01-852d65dbb02b",
   "metadata": {},
   "outputs": [
    {
     "name": "stdout",
     "output_type": "stream",
     "text": [
      "0       Pikachu Kumar\n",
      "1    Balbasaur Sharma\n",
      "2      Raichu Shankar\n",
      "3     Blastoise Kumar\n",
      "dtype: object\n"
     ]
    }
   ],
   "source": [
    "s = s.str.replace('@' , '')\n",
    "print(s)"
   ]
  },
  {
   "cell_type": "markdown",
   "id": "168f05ab-d68d-4999-9b24-d42ab94597da",
   "metadata": {},
   "source": [
    "count function"
   ]
  },
  {
   "cell_type": "code",
   "execution_count": 52,
   "id": "d9c6530b-603d-4681-97df-6d831d6be26f",
   "metadata": {},
   "outputs": [
    {
     "data": {
      "text/plain": [
       "0    2\n",
       "1    5\n",
       "2    3\n",
       "3    2\n",
       "dtype: int64"
      ]
     },
     "execution_count": 52,
     "metadata": {},
     "output_type": "execute_result"
    }
   ],
   "source": [
    "s.str.count('a')"
   ]
  },
  {
   "cell_type": "markdown",
   "id": "77d48af9-1c7c-4aa4-a5b8-87ad07f7761f",
   "metadata": {},
   "source": [
    "startswith and endswith"
   ]
  },
  {
   "cell_type": "code",
   "execution_count": 53,
   "id": "5f0f936e-92bc-4d89-b925-b7c7f9f14c03",
   "metadata": {},
   "outputs": [
    {
     "data": {
      "text/plain": [
       "0     True\n",
       "1    False\n",
       "2     True\n",
       "3     True\n",
       "dtype: bool"
      ]
     },
     "execution_count": 53,
     "metadata": {},
     "output_type": "execute_result"
    }
   ],
   "source": [
    "s.str.endswith('r')"
   ]
  },
  {
   "cell_type": "code",
   "execution_count": 54,
   "id": "b0f7c24f-64f7-4275-b9b1-a5ff2b34c3b6",
   "metadata": {},
   "outputs": [
    {
     "data": {
      "text/plain": [
       "0    False\n",
       "1     True\n",
       "2    False\n",
       "3     True\n",
       "dtype: bool"
      ]
     },
     "execution_count": 54,
     "metadata": {},
     "output_type": "execute_result"
    }
   ],
   "source": [
    "s.str.startswith('B')"
   ]
  },
  {
   "cell_type": "markdown",
   "id": "60019503-4c54-4544-a599-d6ad6d614645",
   "metadata": {},
   "source": [
    "find function"
   ]
  },
  {
   "cell_type": "code",
   "execution_count": 55,
   "id": "5a7e459c-68cd-4202-805c-73e9f80dca4d",
   "metadata": {},
   "outputs": [
    {
     "data": {
      "text/plain": [
       "0   -1\n",
       "1   -1\n",
       "2    7\n",
       "3   -1\n",
       "dtype: int64"
      ]
     },
     "execution_count": 55,
     "metadata": {},
     "output_type": "execute_result"
    }
   ],
   "source": [
    "s.str.find('Shankar')"
   ]
  },
  {
   "cell_type": "markdown",
   "id": "58a19a1e-37d7-4b3c-9c26-0ccdfa65149f",
   "metadata": {},
   "source": [
    "### h) Converting a Series to List"
   ]
  },
  {
   "cell_type": "markdown",
   "id": "8c5fb99f-ba95-4145-8c1c-1d5e304ff10f",
   "metadata": {},
   "source": [
    "Pandas tolist() is used to converrt a series to list."
   ]
  },
  {
   "cell_type": "code",
   "execution_count": 58,
   "id": "465e4b45-afc6-4efa-a0a0-2b791838dc42",
   "metadata": {},
   "outputs": [
    {
     "data": {
      "text/plain": [
       "['Pikachu K@umar', 'Bal@basaur Sharma', 'Raichu Shankar', 'Blastoise Kumar']"
      ]
     },
     "execution_count": 58,
     "metadata": {},
     "output_type": "execute_result"
    }
   ],
   "source": [
    "s.tolist()"
   ]
  },
  {
   "cell_type": "code",
   "execution_count": null,
   "id": "0e9faa79-61c8-4731-b729-ad83905ebec7",
   "metadata": {},
   "outputs": [],
   "source": []
  }
 ],
 "metadata": {
  "kernelspec": {
   "display_name": "Python 3 (ipykernel)",
   "language": "python",
   "name": "python3"
  },
  "language_info": {
   "codemirror_mode": {
    "name": "ipython",
    "version": 3
   },
   "file_extension": ".py",
   "mimetype": "text/x-python",
   "name": "python",
   "nbconvert_exporter": "python",
   "pygments_lexer": "ipython3",
   "version": "3.13.2"
  }
 },
 "nbformat": 4,
 "nbformat_minor": 5
}
