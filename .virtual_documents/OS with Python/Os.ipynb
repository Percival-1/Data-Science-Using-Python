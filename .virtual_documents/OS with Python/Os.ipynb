import os


os.getcwd()


pwd


os.chdir("yo")


os.getcwd()


os.chdir('guys')


os.getcwd()


os.chdir('../')


os.getcwd()


os.mkdir('gfg')


get_ipython().getoutput("ls")


os.makedirs('gfg/gfg')


os.path.join('gfg', 'gfg')



