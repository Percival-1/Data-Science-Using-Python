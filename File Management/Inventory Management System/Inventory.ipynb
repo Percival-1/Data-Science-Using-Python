{
 "cells": [
  {
   "cell_type": "code",
   "execution_count": 3,
   "id": "a448bf0a",
   "metadata": {},
   "outputs": [],
   "source": [
    "fd = open('inventory.txt' , 'r')\n",
    "txt = fd.read()\n",
    "fd.close()"
   ]
  },
  {
   "cell_type": "code",
   "execution_count": 4,
   "id": "7cb1d746",
   "metadata": {},
   "outputs": [
    {
     "name": "stdout",
     "output_type": "stream",
     "text": [
      "1,5 Star,10,100\n",
      "2,Cadbury,10,150\n",
      "3,Milky Bar,5,50\n",
      "4,Crispello,40,120\n"
     ]
    }
   ],
   "source": [
    "print(txt)"
   ]
  },
  {
   "cell_type": "code",
   "execution_count": 5,
   "id": "94b5de64",
   "metadata": {},
   "outputs": [
    {
     "data": {
      "text/plain": [
       "['1,5 Star,10,100',\n",
       " '2,Cadbury,10,150',\n",
       " '3,Milky Bar,5,50',\n",
       " '4,Crispello,40,120']"
      ]
     },
     "execution_count": 5,
     "metadata": {},
     "output_type": "execute_result"
    }
   ],
   "source": [
    "txt.split('\\n')"
   ]
  },
  {
   "cell_type": "code",
   "execution_count": 36,
   "id": "3109b249",
   "metadata": {},
   "outputs": [
    {
     "name": "stdout",
     "output_type": "stream",
     "text": [
      "['1,5 Star,10,80', '2,Cadbury,10,118', '3,Milky Bar,5,26', '4,Crispello,40,91']\n",
      "['1', '5 Star', '10', '80']\n",
      "['2', 'Cadbury', '10', '118']\n",
      "['3', 'Milky Bar', '5', '26']\n",
      "['4', 'Crispello', '40', '91']\n"
     ]
    }
   ],
   "source": [
    "fd = open('inventory.txt' , 'r')\n",
    "w = fd.read().split('\\n')\n",
    "fd.close()\n",
    "print(w)\n",
    "for i in w:\n",
    "    print(i.split(','))"
   ]
  },
  {
   "cell_type": "code",
   "execution_count": 41,
   "id": "cf6deb49",
   "metadata": {},
   "outputs": [
    {
     "name": "stdout",
     "output_type": "stream",
     "text": [
      "1,5 Star,10,80\n",
      "2,Cadbury,10,118\n",
      "3,Milky Bar,5,26\n",
      "4,Crispello,40,91\n"
     ]
    }
   ],
   "source": [
    "fd = open('inventory.txt' , 'r')\n",
    "w = fd.read()\n",
    "print(w)\n",
    "for i in fd:\n",
    "    print(i[1])\n",
    "fd.close()\n"
   ]
  },
  {
   "cell_type": "code",
   "execution_count": 12,
   "id": "d62ff4d9",
   "metadata": {},
   "outputs": [
    {
     "name": "stdout",
     "output_type": "stream",
     "text": [
      "2,Cadbury,10,150\n"
     ]
    }
   ],
   "source": [
    "fd = open('inventory.txt' , 'r')\n",
    "w = fd.read().split('\\n')\n",
    "fd.close()\n",
    "user_id = input('Enter the id : ')\n",
    "for i in w:\n",
    "    if (i.split(',')[0] == user_id):\n",
    "        print(i)\n"
   ]
  },
  {
   "cell_type": "code",
   "execution_count": 2,
   "id": "4f69475f",
   "metadata": {},
   "outputs": [
    {
     "name": "stdout",
     "output_type": "stream",
     "text": [
      "Before update :  2,Cadbury,10,118\n",
      "After update  :  2,Cadbury,10,115\n",
      "\n",
      "---------------Bill---------------\n",
      "Name           | Price   | Quantity\n",
      "Cadbury        | 10      | 3\n",
      "------------------------------\n",
      "Total amount - 30\n",
      "------------------------------\n"
     ]
    },
    {
     "ename": "NameError",
     "evalue": "name 'subtotal' is not defined",
     "output_type": "error",
     "traceback": [
      "\u001b[31m---------------------------------------------------------------------------\u001b[39m",
      "\u001b[31mNameError\u001b[39m                                 Traceback (most recent call last)",
      "\u001b[36mCell\u001b[39m\u001b[36m \u001b[39m\u001b[32mIn[2]\u001b[39m\u001b[32m, line 85\u001b[39m\n\u001b[32m     83\u001b[39m     price = \u001b[38;5;28mint\u001b[39m(i[\u001b[32m1\u001b[39m])\n\u001b[32m     84\u001b[39m     qty = \u001b[38;5;28mint\u001b[39m(i[\u001b[32m2\u001b[39m])\n\u001b[32m---> \u001b[39m\u001b[32m85\u001b[39m     \u001b[43msubtotal\u001b[49m += price*qty\n\u001b[32m     86\u001b[39m     new.write(\u001b[33mf\u001b[39m\u001b[33m'\u001b[39m\u001b[38;5;132;01m{\u001b[39;00mi[\u001b[32m0\u001b[39m]\u001b[38;5;132;01m:\u001b[39;00m\u001b[33m<15\u001b[39m\u001b[38;5;132;01m}\u001b[39;00m\u001b[33m| \u001b[39m\u001b[38;5;132;01m{\u001b[39;00mi[\u001b[32m1\u001b[39m]\u001b[38;5;132;01m:\u001b[39;00m\u001b[33m<7\u001b[39m\u001b[38;5;132;01m}\u001b[39;00m\u001b[33m | \u001b[39m\u001b[38;5;132;01m{\u001b[39;00mi[\u001b[32m2\u001b[39m]\u001b[38;5;132;01m:\u001b[39;00m\u001b[33m<10\u001b[39m\u001b[38;5;132;01m}\u001b[39;00m\u001b[33m | \u001b[39m\u001b[38;5;132;01m{\u001b[39;00msubtotal\u001b[38;5;132;01m}\u001b[39;00m\u001b[33m'\u001b[39m)\n\u001b[32m     87\u001b[39m new.write(\u001b[33m'\u001b[39m\u001b[33m-\u001b[39m\u001b[33m'\u001b[39m*\u001b[32m40\u001b[39m)\n",
      "\u001b[31mNameError\u001b[39m: name 'subtotal' is not defined"
     ]
    }
   ],
   "source": [
    "import datetime as dt\n",
    "\n",
    "fd = open('inventory.txt' , 'r')\n",
    "w = fd.read().split('\\n')\n",
    "fd.close()\n",
    "\n",
    "bill = []\n",
    "purchaser_name   = input('Enter your name : ')\n",
    "purchaser_number = input(\"Enter your number : \")\n",
    "purchaser_email  = input(\"Enter your email : \")\n",
    "add_items = True\n",
    "while (add_items == True):\n",
    "\n",
    "    pro_id       = input('Enter the id : ')\n",
    "    pro_quantity = int(input('Enter the quantity you want : '))\n",
    "    updated_lines = []\n",
    "    found = False\n",
    "\n",
    "    for i in w:\n",
    "        pro_details = i.split(',')\n",
    "        if (pro_details[0] == pro_id):\n",
    "            found = True\n",
    "            curr_qty = int(pro_details[3])\n",
    "\n",
    "            if(curr_qty < pro_quantity):\n",
    "                print(\"THe product quantity is not enough\")\n",
    "                updated_lines.append(i)\n",
    "\n",
    "            else:\n",
    "                bill_line = [pro_details[1] , pro_details[2] , pro_quantity]\n",
    "                bill.append(bill_line)\n",
    "                rem_qty = curr_qty - pro_quantity\n",
    "                pro_details[3] = str(rem_qty)\n",
    "                update_line = ','.join(pro_details)\n",
    "                updated_lines.append(update_line)\n",
    "                print('Before update : ' , i)\n",
    "                print('After update  : ' , update_line)\n",
    "\n",
    "        else:\n",
    "            updated_lines.append(i)\n",
    "\n",
    "    if not found:\n",
    "\n",
    "        print('Product ID not found')\n",
    "\n",
    "    else:\n",
    "        with open('inventory.txt' , 'w') as fd:\n",
    "            fd.write('\\n'.join(updated_lines))\n",
    "            w = updated_lines\n",
    "\n",
    "    confirmation = input('More Items : Y/n')\n",
    "\n",
    "    if (confirmation.lower() != 'y'):\n",
    "        add_items = False\n",
    "\n",
    "\n",
    "# Print Bill\n",
    "\n",
    "print('\\n---------------Bill---------------')\n",
    "print(f'{'Name':<15}| {'Price':<7} | Quantity')\n",
    "\n",
    "for i in bill:\n",
    "    print(f'{i[0]:<15}| {i[1]:<7} | {i[2]}')\n",
    "\n",
    "print('-'*30)\n",
    "total = 0\n",
    "\n",
    "for i in bill:\n",
    "    price = int(i[1])\n",
    "    qty = int(i[2])\n",
    "    total += price*qty\n",
    "\n",
    "print(f'Total amount - {total}')\n",
    "print('-'*30)\n",
    "\n",
    "# Saving Bill in txt format\n",
    "\n",
    "new = open(f'{purchaser_number}.txt','a')\n",
    "new.write(f'{purchaser_name}          {dt.datetime.now()} \\n')\n",
    "new.write(purchaser_email)\n",
    "new.write(f'{'Product Name':<15}| {'Price':<7} | {'Quantity':<10} | Sub Total')\n",
    "for i in bill:\n",
    "    price = int(i[1])\n",
    "    qty = int(i[2])\n",
    "    subtotal += price*qty\n",
    "    new.write(f'{i[0]:<15}| {i[1]:<7} | {i[2]:<10} | {subtotal}')\n",
    "new.write('-'*40)\n",
    "new.write(f'{'Total':<38 total}')"
   ]
  },
  {
   "cell_type": "code",
   "execution_count": null,
   "id": "958f8a33",
   "metadata": {},
   "outputs": [],
   "source": [
    "git add .\n",
    "git commit -m\"update\"\n",
    "git push origin main"
   ]
  }
 ],
 "metadata": {
  "kernelspec": {
   "display_name": "venv",
   "language": "python",
   "name": "python3"
  },
  "language_info": {
   "codemirror_mode": {
    "name": "ipython",
    "version": 3
   },
   "file_extension": ".py",
   "mimetype": "text/x-python",
   "name": "python",
   "nbconvert_exporter": "python",
   "pygments_lexer": "ipython3",
   "version": "3.13.3"
  }
 },
 "nbformat": 4,
 "nbformat_minor": 5
}
