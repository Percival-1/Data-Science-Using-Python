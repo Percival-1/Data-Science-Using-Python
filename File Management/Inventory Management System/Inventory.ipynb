{
 "cells": [
  {
   "cell_type": "code",
   "execution_count": 3,
   "id": "a448bf0a",
   "metadata": {},
   "outputs": [],
   "source": [
    "fd = open('inventory.txt' , 'r')\n",
    "txt = fd.read()\n",
    "fd.close()"
   ]
  },
  {
   "cell_type": "code",
   "execution_count": 4,
   "id": "7cb1d746",
   "metadata": {},
   "outputs": [
    {
     "name": "stdout",
     "output_type": "stream",
     "text": [
      "1,5 Star,10,100\n",
      "2,Cadbury,10,150\n",
      "3,Milky Bar,5,50\n",
      "4,Crispello,40,120\n"
     ]
    }
   ],
   "source": [
    "print(txt)"
   ]
  },
  {
   "cell_type": "code",
   "execution_count": 5,
   "id": "94b5de64",
   "metadata": {},
   "outputs": [
    {
     "data": {
      "text/plain": [
       "['1,5 Star,10,100',\n",
       " '2,Cadbury,10,150',\n",
       " '3,Milky Bar,5,50',\n",
       " '4,Crispello,40,120']"
      ]
     },
     "execution_count": 5,
     "metadata": {},
     "output_type": "execute_result"
    }
   ],
   "source": [
    "txt.split('\\n')"
   ]
  },
  {
   "cell_type": "code",
   "execution_count": 36,
   "id": "3109b249",
   "metadata": {},
   "outputs": [
    {
     "name": "stdout",
     "output_type": "stream",
     "text": [
      "['1,5 Star,10,80', '2,Cadbury,10,118', '3,Milky Bar,5,26', '4,Crispello,40,91']\n",
      "['1', '5 Star', '10', '80']\n",
      "['2', 'Cadbury', '10', '118']\n",
      "['3', 'Milky Bar', '5', '26']\n",
      "['4', 'Crispello', '40', '91']\n"
     ]
    }
   ],
   "source": [
    "fd = open('inventory.txt' , 'r')\n",
    "w = fd.read().split('\\n')\n",
    "fd.close()\n",
    "print(w)\n",
    "for i in w:\n",
    "    print(i.split(','))"
   ]
  },
  {
   "cell_type": "code",
   "execution_count": 41,
   "id": "cf6deb49",
   "metadata": {},
   "outputs": [
    {
     "name": "stdout",
     "output_type": "stream",
     "text": [
      "1,5 Star,10,80\n",
      "2,Cadbury,10,118\n",
      "3,Milky Bar,5,26\n",
      "4,Crispello,40,91\n"
     ]
    }
   ],
   "source": [
    "fd = open('inventory.txt' , 'r')\n",
    "w = fd.read()\n",
    "print(w)\n",
    "for i in fd:\n",
    "    print(i[1])\n",
    "fd.close()\n"
   ]
  },
  {
   "cell_type": "code",
   "execution_count": 12,
   "id": "d62ff4d9",
   "metadata": {},
   "outputs": [
    {
     "name": "stdout",
     "output_type": "stream",
     "text": [
      "2,Cadbury,10,150\n"
     ]
    }
   ],
   "source": [
    "fd = open('inventory.txt' , 'r')\n",
    "w = fd.read().split('\\n')\n",
    "fd.close()\n",
    "user_id = input('Enter the id : ')\n",
    "for i in w:\n",
    "    if (i.split(',')[0] == user_id):\n",
    "        print(i)\n"
   ]
  },
  {
   "cell_type": "code",
   "execution_count": null,
   "id": "4f69475f",
   "metadata": {},
   "outputs": [],
   "source": [
    "fd = open('inventory.txt' , 'r')\n",
    "w = fd.read().split('\\n')\n",
    "fd.close()\n",
    "\n",
    "bill = []\n",
    "add_items = True\n",
    "while (add_items == True):\n",
    "\n",
    "    pro_id = input('Enter the id : ')\n",
    "    pro_quantity = int(input('Enter the quantity you want : '))\n",
    "    updated_lines = []\n",
    "    found = False\n",
    "\n",
    "    for i in w:\n",
    "        pro_details = i.split(',')\n",
    "        if (pro_details[0] == pro_id):\n",
    "            found = True\n",
    "            curr_qty = int(pro_details[3])\n",
    "\n",
    "            if(curr_qty < pro_quantity):\n",
    "                print(\"THe product quantity is not enough\")\n",
    "                updated_lines.append(i)\n",
    "\n",
    "            else:\n",
    "                bill_line = [pro_details[1] , pro_details[2] , pro_quantity]\n",
    "                bill.append(bill_line)\n",
    "                rem_qty = curr_qty - pro_quantity\n",
    "                pro_details[3] = str(rem_qty)\n",
    "                update_line = ','.join(pro_details)\n",
    "                updated_lines.append(update_line)\n",
    "                print('Before update : ' , i)\n",
    "                print('After update  : ' , update_line)\n",
    "\n",
    "        else:\n",
    "            updated_lines.append(i)\n",
    "\n",
    "    if not found:\n",
    "\n",
    "        print('Product ID not found')\n",
    "\n",
    "    else:\n",
    "        with open('inventory.txt' , 'w') as fd:\n",
    "            fd.write('\\n'.join(updated_lines))\n",
    "            w = updated_lines\n",
    "\n",
    "    confirmation = input('More Items : Y/n')\n",
    "\n",
    "    if (confirmation.lower() != 'y'):\n",
    "        add_items = False\n",
    "\n",
    "# Print Bill\n",
    "\n",
    "print('\\n---------------Bill---------------')\n",
    "print(f'{'Name':<15}| {'Price':<7} | Quantity')\n",
    "\n",
    "for i in bill:\n",
    "    print(f'{i[0]:<15}| {i[1]:<7} | {i[2]}')\n",
    "\n",
    "print('-'*30)\n",
    "total = 0\n",
    "\n",
    "for i in bill:\n",
    "    price = int(i[1])\n",
    "    qty = int(i[2])\n",
    "    total += price*qty\n",
    "\n",
    "print(f'Total amount - {total}')\n",
    "print('-'*30)"
   ]
  },
  {
   "cell_type": "code",
   "execution_count": 25,
   "id": "3007b2e2",
   "metadata": {},
   "outputs": [
    {
     "data": {
      "text/plain": [
       "['1,5 Star,10,100',\n",
       " '2,Cadbury,10,146',\n",
       " '3,Milky Bar,5,50',\n",
       " '4,Crispello,40,120']"
      ]
     },
     "execution_count": 25,
     "metadata": {},
     "output_type": "execute_result"
    }
   ],
   "source": [
    "updated_lines"
   ]
  }
 ],
 "metadata": {
  "kernelspec": {
   "display_name": "venv",
   "language": "python",
   "name": "python3"
  },
  "language_info": {
   "codemirror_mode": {
    "name": "ipython",
    "version": 3
   },
   "file_extension": ".py",
   "mimetype": "text/x-python",
   "name": "python",
   "nbconvert_exporter": "python",
   "pygments_lexer": "ipython3",
   "version": "3.13.3"
  }
 },
 "nbformat": 4,
 "nbformat_minor": 5
}
