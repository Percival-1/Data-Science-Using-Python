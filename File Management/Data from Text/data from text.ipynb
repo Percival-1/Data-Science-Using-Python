{
 "cells": [
  {
   "cell_type": "code",
   "execution_count": 2,
   "id": "6bdf8b3d",
   "metadata": {},
   "outputs": [
    {
     "name": "stdout",
     "output_type": "stream",
     "text": [
      "Coronavirus disease 2019 (COVID-19, also known as SARS-2) is a contagious disease caused by the coronavirus SARS-CoV-2. In January 2020, the disease spread worldwide, resulting in the COVID-19 pandemic.\n",
      "\n",
      "The symptoms of COVIDâ€‘19 can vary but often include fever,[7] fatigue, cough, breathing difficulties, loss of smell, and loss of taste.[8][9][10] Symptoms may begin one to fourteen days after exposure to the virus. At least a third of people who are infected do not develop noticeable symptoms.[11][12] Of those who develop symptoms noticeable enough to be classified as patients, most (81%) develop mild to moderate symptoms (up to mild pneumonia), while 14% develop severe symptoms (dyspnea, hypoxia, or more than 50% lung involvement on imaging), and 5% develop critical symptoms (respiratory failure, shock, or multiorgan dysfunction).[13] Older people have a higher risk of developing severe symptoms. Some complications result in death. Some people continue to experience a range of effects (long COVID) for months or years after infection, and damage to organs has been observed.[14] Multi-year studies on the long-term effects are ongoing.[15]\n",
      "\n",
      "COVIDâ€‘19 transmission occurs when infectious particles are breathed in or come into contact with the eyes, nose, or mouth. The risk is highest when people are in close proximity, but small airborne particles containing the virus can remain suspended in the air and travel over longer distances, particularly indoors. Transmission can also occur when people touch their eyes, nose, or mouth after touching surfaces or objects that have been contaminated by the virus. People remain contagious for up to 20 days and can spread the virus even if they do not develop symptoms.[16]\n",
      "\n",
      "Testing methods for COVID-19 to detect the virus's nucleic acid include real-time reverse transcription polymerase chain reaction (RTâ€‘PCR),[17][18] transcription-mediated amplification,[17][18][19] and reverse transcription loop-mediated isothermal amplification (RTâ€‘LAMP)[17][18] from a nasopharyngeal swab.[20]\n",
      "\n",
      "Several COVID-19 vaccines have been approved and distributed in various countries, many of which have initiated mass vaccination campaigns. Other preventive measures include physical or social distancing, quarantining, ventilation of indoor spaces, use of face masks or coverings in public, covering coughs and sneezes, hand washing, and keeping unwashed hands away from the face. While drugs have been developed to inhibit the virus, the primary treatment is still symptomatic, managing the disease through supportive care, isolation, and experimental measures.Hi my name is Shubhranshu Ranjan.\n",
      "Hi my name is Shubhranshu Ranjan.\n",
      "\n"
     ]
    }
   ],
   "source": [
    "fd = open('data.txt' , 'r')\n",
    "txt = fd.read()\n",
    "print(txt)\n",
    "fd.close()"
   ]
  },
  {
   "cell_type": "code",
   "execution_count": null,
   "id": "9830f8e7",
   "metadata": {},
   "outputs": [
    {
     "data": {
      "text/plain": [
       "\"Coronavirus disease 2019 (COVID-19, also known as SARS-2) is a contagious disease caused by the coronavirus SARS-CoV-2. In January 2020, the disease spread worldwide, resulting in the COVID-19 pandemic.\\n\\nThe symptoms of COVIDâ€‘19 can vary but often include fever,[7] fatigue, cough, breathing difficulties, loss of smell, and loss of taste.[8][9][10] Symptoms may begin one to fourteen days after exposure to the virus. At least a third of people who are infected do not develop noticeable symptoms.[11][12] Of those who develop symptoms noticeable enough to be classified as patients, most (81%) develop mild to moderate symptoms (up to mild pneumonia), while 14% develop severe symptoms (dyspnea, hypoxia, or more than 50% lung involvement on imaging), and 5% develop critical symptoms (respiratory failure, shock, or multiorgan dysfunction).[13] Older people have a higher risk of developing severe symptoms. Some complications result in death. Some people continue to experience a range of effects (long COVID) for months or years after infection, and damage to organs has been observed.[14] Multi-year studies on the long-term effects are ongoing.[15]\\n\\nCOVIDâ€‘19 transmission occurs when infectious particles are breathed in or come into contact with the eyes, nose, or mouth. The risk is highest when people are in close proximity, but small airborne particles containing the virus can remain suspended in the air and travel over longer distances, particularly indoors. Transmission can also occur when people touch their eyes, nose, or mouth after touching surfaces or objects that have been contaminated by the virus. People remain contagious for up to 20 days and can spread the virus even if they do not develop symptoms.[16]\\n\\nTesting methods for COVID-19 to detect the virus's nucleic acid include real-time reverse transcription polymerase chain reaction (RTâ€‘PCR),[17][18] transcription-mediated amplification,[17][18][19] and reverse transcription loop-mediated isothermal amplification (RTâ€‘LAMP)[17][18] from a nasopharyngeal swab.[20]\\n\\nSeveral COVID-19 vaccines have been approved and distributed in various countries, many of which have initiated mass vaccination campaigns. Other preventive measures include physical or social distancing, quarantining, ventilation of indoor spaces, use of face masks or coverings in public, covering coughs and sneezes, hand washing, and keeping unwashed hands away from the face. While drugs have been developed to inhibit the virus, the primary treatment is still symptomatic, managing the disease through supportive care, isolation, and experimental measures.\""
      ]
     },
     "execution_count": 27,
     "metadata": {},
     "output_type": "execute_result"
    }
   ],
   "source": [
    "txt"
   ]
  },
  {
   "cell_type": "code",
   "execution_count": 28,
   "id": "f9f18c5d",
   "metadata": {},
   "outputs": [
    {
     "name": "stdout",
     "output_type": "stream",
     "text": [
      "Coronavirus disease 2019 (COVID-19, also known as SARS-2) is a contagious disease caused by the coronavirus SARS-CoV-2. In January 2020, the disease spread worldwide, resulting in the COVID-19 pandemic.\n",
      "\n",
      "The symptoms of COVIDâ€‘19 can vary but often include fever,[7] fatigue, cough, breathing difficulties, loss of smell, and loss of taste.[8][9][10] Symptoms may begin one to fourteen days after exposure to the virus. At least a third of people who are infected do not develop noticeable symptoms.[11][12] Of those who develop symptoms noticeable enough to be classified as patients, most (81%) develop mild to moderate symptoms (up to mild pneumonia), while 14% develop severe symptoms (dyspnea, hypoxia, or more than 50% lung involvement on imaging), and 5% develop critical symptoms (respiratory failure, shock, or multiorgan dysfunction).[13] Older people have a higher risk of developing severe symptoms. Some complications result in death. Some people continue to experience a range of effects (long COVID) for months or years after infection, and damage to organs has been observed.[14] Multi-year studies on the long-term effects are ongoing.[15]\n",
      "\n",
      "COVIDâ€‘19 transmission occurs when infectious particles are breathed in or come into contact with the eyes, nose, or mouth. The risk is highest when people are in close proximity, but small airborne particles containing the virus can remain suspended in the air and travel over longer distances, particularly indoors. Transmission can also occur when people touch their eyes, nose, or mouth after touching surfaces or objects that have been contaminated by the virus. People remain contagious for up to 20 days and can spread the virus even if they do not develop symptoms.[16]\n",
      "\n",
      "Testing methods for COVID-19 to detect the virus's nucleic acid include real-time reverse transcription polymerase chain reaction (RTâ€‘PCR),[17][18] transcription-mediated amplification,[17][18][19] and reverse transcription loop-mediated isothermal amplification (RTâ€‘LAMP)[17][18] from a nasopharyngeal swab.[20]\n",
      "\n",
      "Several COVID-19 vaccines have been approved and distributed in various countries, many of which have initiated mass vaccination campaigns. Other preventive measures include physical or social distancing, quarantining, ventilation of indoor spaces, use of face masks or coverings in public, covering coughs and sneezes, hand washing, and keeping unwashed hands away from the face. While drugs have been developed to inhibit the virus, the primary treatment is still symptomatic, managing the disease through supportive care, isolation, and experimental measures.\n"
     ]
    }
   ],
   "source": [
    "print(txt)"
   ]
  },
  {
   "cell_type": "code",
   "execution_count": null,
   "id": "0551ec48",
   "metadata": {},
   "outputs": [
    {
     "name": "stdout",
     "output_type": "stream",
     "text": [
      "he implements used for veiqia showed regional variations.[1]:â€Š52â€Š The tools could be shaped like a small adze and the blade was made from a lemon tree thorn. A wau (mallet) made from mbeta wood tapped the back of the bati, which punctured the skin. The handle for the bati was sometimes made from reed.[1]:â€Š52â€Š In Lau, the jitolo (the local term for the bati) was made from hibiscus wood; these mallets could also be made from stingray tail spines. Other materials used to puncture the skin included barracuda or shark teeth, or a sharp-toothed comb made from bone or turtle shell.[1]:â€Š45â€Š In the district of the Wainimala River on Viti Levu, the skin was punctured and ink made from the Acacia richii was then rubbed into the wound. This was in contrast to other methods, where a blade was dipped in the ink.[4] In Rewasau, the ink was made from the soot of the Kauri pine.[4] An ink made from soot from burnt candlenuts was reserved for women of high social status.[6]:â€Š307â€Š Ink was also blessed with prayers to the gods prior to the process.[1]:â€Š60â€Š Some dauveiqia, such as Rabali, used soot to sketch designs on the bodies prior to beginning to tattoo.[1]:â€Š153â€Š Tools were usually used for one specific woman's veiqia. Afterwards, for women in Viti Levu for example, they were given to the subject's mother, who kept them with other special objects from the young woman's childhood â€“ such as her umbilical cord. For women from Vanua Levu, the masi (cloth used to wipe away blood and excess ink) was kept and then taken out to sea as part of a fishing trip and then thrown in the water. This was followed by a blessing usually given by the young woman's grandmother.[1]:â€Š48â€Š For qia gusu (mouth tattoos), an 1878 account on Vita Levu described how a woman's head was held still while lemon thorns fastened to a reed were used to incise either side of her mouth using an ink made from the gum of Agathis vitiensis. For some women in other areas of Fiji, such as Nagadi, women were tattooed all round their mouths, not just in the corners.[1]:â€Š52â€Š\n"
     ]
    }
   ],
   "source": [
    "# txt = txt.replace('\\n\\n' , ' ')\n",
    "# print(txt)"
   ]
  },
  {
   "cell_type": "code",
   "execution_count": 29,
   "id": "d929e4c0",
   "metadata": {},
   "outputs": [
    {
     "name": "stdout",
     "output_type": "stream",
     "text": [
      "5\n"
     ]
    },
    {
     "data": {
      "text/plain": [
       "['Coronavirus disease 2019 (COVID-19, also known as SARS-2) is a contagious disease caused by the coronavirus SARS-CoV-2. In January 2020, the disease spread worldwide, resulting in the COVID-19 pandemic.',\n",
       " 'The symptoms of COVIDâ€‘19 can vary but often include fever,[7] fatigue, cough, breathing difficulties, loss of smell, and loss of taste.[8][9][10] Symptoms may begin one to fourteen days after exposure to the virus. At least a third of people who are infected do not develop noticeable symptoms.[11][12] Of those who develop symptoms noticeable enough to be classified as patients, most (81%) develop mild to moderate symptoms (up to mild pneumonia), while 14% develop severe symptoms (dyspnea, hypoxia, or more than 50% lung involvement on imaging), and 5% develop critical symptoms (respiratory failure, shock, or multiorgan dysfunction).[13] Older people have a higher risk of developing severe symptoms. Some complications result in death. Some people continue to experience a range of effects (long COVID) for months or years after infection, and damage to organs has been observed.[14] Multi-year studies on the long-term effects are ongoing.[15]',\n",
       " 'COVIDâ€‘19 transmission occurs when infectious particles are breathed in or come into contact with the eyes, nose, or mouth. The risk is highest when people are in close proximity, but small airborne particles containing the virus can remain suspended in the air and travel over longer distances, particularly indoors. Transmission can also occur when people touch their eyes, nose, or mouth after touching surfaces or objects that have been contaminated by the virus. People remain contagious for up to 20 days and can spread the virus even if they do not develop symptoms.[16]',\n",
       " \"Testing methods for COVID-19 to detect the virus's nucleic acid include real-time reverse transcription polymerase chain reaction (RTâ€‘PCR),[17][18] transcription-mediated amplification,[17][18][19] and reverse transcription loop-mediated isothermal amplification (RTâ€‘LAMP)[17][18] from a nasopharyngeal swab.[20]\",\n",
       " 'Several COVID-19 vaccines have been approved and distributed in various countries, many of which have initiated mass vaccination campaigns. Other preventive measures include physical or social distancing, quarantining, ventilation of indoor spaces, use of face masks or coverings in public, covering coughs and sneezes, hand washing, and keeping unwashed hands away from the face. While drugs have been developed to inhibit the virus, the primary treatment is still symptomatic, managing the disease through supportive care, isolation, and experimental measures.']"
      ]
     },
     "execution_count": 29,
     "metadata": {},
     "output_type": "execute_result"
    }
   ],
   "source": [
    "per = txt.split('\\n\\n')\n",
    "print(len(per))\n",
    "per"
   ]
  },
  {
   "cell_type": "code",
   "execution_count": 30,
   "id": "0bce1eda",
   "metadata": {},
   "outputs": [
    {
     "name": "stdout",
     "output_type": "stream",
     "text": [
      "19\n"
     ]
    },
    {
     "data": {
      "text/plain": [
       "['Coronavirus disease 2019 (COVID-19, also known as SARS-2) is a contagious disease caused by the coronavirus SARS-CoV-2',\n",
       " ' In January 2020, the disease spread worldwide, resulting in the COVID-19 pandemic',\n",
       " '\\n\\nThe symptoms of COVIDâ€‘19 can vary but often include fever,[7] fatigue, cough, breathing difficulties, loss of smell, and loss of taste',\n",
       " '[8][9][10] Symptoms may begin one to fourteen days after exposure to the virus',\n",
       " ' At least a third of people who are infected do not develop noticeable symptoms',\n",
       " '[11][12] Of those who develop symptoms noticeable enough to be classified as patients, most (81%) develop mild to moderate symptoms (up to mild pneumonia), while 14% develop severe symptoms (dyspnea, hypoxia, or more than 50% lung involvement on imaging), and 5% develop critical symptoms (respiratory failure, shock, or multiorgan dysfunction)',\n",
       " '[13] Older people have a higher risk of developing severe symptoms',\n",
       " ' Some complications result in death',\n",
       " ' Some people continue to experience a range of effects (long COVID) for months or years after infection, and damage to organs has been observed',\n",
       " '[14] Multi-year studies on the long-term effects are ongoing',\n",
       " '[15]\\n\\nCOVIDâ€‘19 transmission occurs when infectious particles are breathed in or come into contact with the eyes, nose, or mouth',\n",
       " ' The risk is highest when people are in close proximity, but small airborne particles containing the virus can remain suspended in the air and travel over longer distances, particularly indoors',\n",
       " ' Transmission can also occur when people touch their eyes, nose, or mouth after touching surfaces or objects that have been contaminated by the virus',\n",
       " ' People remain contagious for up to 20 days and can spread the virus even if they do not develop symptoms',\n",
       " \"[16]\\n\\nTesting methods for COVID-19 to detect the virus's nucleic acid include real-time reverse transcription polymerase chain reaction (RTâ€‘PCR),[17][18] transcription-mediated amplification,[17][18][19] and reverse transcription loop-mediated isothermal amplification (RTâ€‘LAMP)[17][18] from a nasopharyngeal swab\",\n",
       " '[20]\\n\\nSeveral COVID-19 vaccines have been approved and distributed in various countries, many of which have initiated mass vaccination campaigns',\n",
       " ' Other preventive measures include physical or social distancing, quarantining, ventilation of indoor spaces, use of face masks or coverings in public, covering coughs and sneezes, hand washing, and keeping unwashed hands away from the face',\n",
       " ' While drugs have been developed to inhibit the virus, the primary treatment is still symptomatic, managing the disease through supportive care, isolation, and experimental measures',\n",
       " '']"
      ]
     },
     "execution_count": 30,
     "metadata": {},
     "output_type": "execute_result"
    }
   ],
   "source": [
    "stop = txt.split('.')\n",
    "print(len(stop))\n",
    "stop"
   ]
  },
  {
   "cell_type": "code",
   "execution_count": 31,
   "id": "421a093e",
   "metadata": {},
   "outputs": [
    {
     "data": {
      "text/plain": [
       "''"
      ]
     },
     "execution_count": 31,
     "metadata": {},
     "output_type": "execute_result"
    }
   ],
   "source": [
    "stop[-1]"
   ]
  },
  {
   "cell_type": "code",
   "execution_count": 3,
   "id": "ceb91517",
   "metadata": {},
   "outputs": [
    {
     "name": "stdout",
     "output_type": "stream",
     "text": [
      "Coronavirus disease 2019 (COVID-19, also known as SARS-2) is a contagious disease caused by the coronavirus SARS-CoV-2. In January 2020, the disease spread worldwide, resulting in the COVID-19 pandemic.\n",
      "\n",
      "The symptoms of COVIDâ€‘19 can vary but often include fever, fatigue, cough, breathing difficulties, loss of smell, and loss of taste. Symptoms may begin one to fourteen days after exposure to the virus. At least a third of people who are infected do not develop noticeable symptoms. Of those who develop symptoms noticeable enough to be classified as patients, most (81%) develop mild to moderate symptoms (up to mild pneumonia), while 14% develop severe symptoms (dyspnea, hypoxia, or more than 50% lung involvement on imaging), and 5% develop critical symptoms (respiratory failure, shock, or multiorgan dysfunction). Older people have a higher risk of developing severe symptoms. Some complications result in death. Some people continue to experience a range of effects (long COVID) for months or years after infection, and damage to organs has been observed. Multi-year studies on the long-term effects are ongoing.\n",
      "\n",
      "COVIDâ€‘19 transmission occurs when infectious particles are breathed in or come into contact with the eyes, nose, or mouth. The risk is highest when people are in close proximity, but small airborne particles containing the virus can remain suspended in the air and travel over longer distances, particularly indoors. Transmission can also occur when people touch their eyes, nose, or mouth after touching surfaces or objects that have been contaminated by the virus. People remain contagious for up to 20 days and can spread the virus even if they do not develop symptoms.\n",
      "\n",
      "Testing methods for COVID-19 to detect the virus's nucleic acid include real-time reverse transcription polymerase chain reaction (RTâ€‘PCR), transcription-mediated amplification, and reverse transcription loop-mediated isothermal amplification (RTâ€‘LAMP) from a nasopharyngeal swab.\n",
      "\n",
      "Several COVID-19 vaccines have been approved and distributed in various countries, many of which have initiated mass vaccination campaigns. Other preventive measures include physical or social distancing, quarantining, ventilation of indoor spaces, use of face masks or coverings in public, covering coughs and sneezes, hand washing, and keeping unwashed hands away from the face. While drugs have been developed to inhibit the virus, the primary treatment is still symptomatic, managing the disease through supportive care, isolation, and experimental measures.Hi my name is Shubhranshu Ranjan.\n",
      "Hi my name is Shubhranshu Ranjan.\n",
      "\n"
     ]
    }
   ],
   "source": [
    "for i in range(7 , 21):\n",
    "    pattern = '[' + str(i) + ']'\n",
    "    txt = txt.replace(pattern , '')\n",
    "print(txt)"
   ]
  },
  {
   "cell_type": "code",
   "execution_count": 5,
   "id": "e9478f71",
   "metadata": {},
   "outputs": [
    {
     "name": "stdout",
     "output_type": "stream",
     "text": [
      "Coronavirus disease 2019 (COVID-19, also known as SARS-2) is a contagious disease caused by the coronavirus SARS-CoV-2. In January 2020, the disease spread worldwide, resulting in the COVID-19 pandemic.\n",
      "\n",
      "The symptoms of COVID-19 can vary but often include fever, fatigue, cough, breathing difficulties, loss of smell, and loss of taste. Symptoms may begin one to fourteen days after exposure to the virus. At least a third of people who are infected do not develop noticeable symptoms. Of those who develop symptoms noticeable enough to be classified as patients, most (81%) develop mild to moderate symptoms (up to mild pneumonia), while 14% develop severe symptoms (dyspnea, hypoxia, or more than 50% lung involvement on imaging), and 5% develop critical symptoms (respiratory failure, shock, or multiorgan dysfunction). Older people have a higher risk of developing severe symptoms. Some complications result in death. Some people continue to experience a range of effects (long COVID) for months or years after infection, and damage to organs has been observed. Multi-year studies on the long-term effects are ongoing.\n",
      "\n",
      "COVID-19 transmission occurs when infectious particles are breathed in or come into contact with the eyes, nose, or mouth. The risk is highest when people are in close proximity, but small airborne particles containing the virus can remain suspended in the air and travel over longer distances, particularly indoors. Transmission can also occur when people touch their eyes, nose, or mouth after touching surfaces or objects that have been contaminated by the virus. People remain contagious for up to 20 days and can spread the virus even if they do not develop symptoms.\n",
      "\n",
      "Testing methods for COVID-19 to detect the virus's nucleic acid include real-time reverse transcription polymerase chain reaction (RT-PCR), transcription-mediated amplification, and reverse transcription loop-mediated isothermal amplification (RT-LAMP) from a nasopharyngeal swab.\n",
      "\n",
      "Several COVID-19 vaccines have been approved and distributed in various countries, many of which have initiated mass vaccination campaigns. Other preventive measures include physical or social distancing, quarantining, ventilation of indoor spaces, use of face masks or coverings in public, covering coughs and sneezes, hand washing, and keeping unwashed hands away from the face. While drugs have been developed to inhibit the virus, the primary treatment is still symptomatic, managing the disease through supportive care, isolation, and experimental measures.Hi my name is Shubhranshu Ranjan.\n",
      "Hi my name is Shubhranshu Ranjan.\n",
      "\n"
     ]
    }
   ],
   "source": [
    "txt = txt.replace('â€‘' , '-')\n",
    "print(txt)"
   ]
  },
  {
   "cell_type": "code",
   "execution_count": 44,
   "id": "a50380a5",
   "metadata": {},
   "outputs": [
    {
     "name": "stdout",
     "output_type": "stream",
     "text": [
      "data from text.ipynb\n",
      "data.txt\n",
      "data1.txt\n"
     ]
    }
   ],
   "source": [
    "!ls\n",
    "fd = open('data1.txt' , 'w')\n",
    "fd.close()"
   ]
  },
  {
   "cell_type": "code",
   "execution_count": 50,
   "id": "488dd009",
   "metadata": {},
   "outputs": [],
   "source": [
    "fd = open('data1.txt' , 'a')\n",
    "fd.write(\"hello my name is Shubhranshu\")\n",
    "fd.close()"
   ]
  },
  {
   "cell_type": "code",
   "execution_count": null,
   "id": "bd032380",
   "metadata": {},
   "outputs": [
    {
     "name": "stdout",
     "output_type": "stream",
     "text": [
      "2\n"
     ]
    }
   ],
   "source": [
    "fd = open('data1.txt' , 'w')\n",
    "fd.write('hi')\n",
    "fd.close()"
   ]
  },
  {
   "cell_type": "code",
   "execution_count": 7,
   "id": "16e487ef",
   "metadata": {},
   "outputs": [],
   "source": [
    "fd = open('data.txt' , 'a')\n",
    "txt ='Hi my name is Shubhranshu Ranjan'\n",
    "txt = txt + '.\\n'\n",
    "fd.write(txt)\n",
    "fd.close()"
   ]
  },
  {
   "cell_type": "code",
   "execution_count": 8,
   "id": "4ed6077c",
   "metadata": {},
   "outputs": [],
   "source": [
    "# Open the file in write mode\n",
    "file = open(\"data1.txt\", \"w\")\n",
    "\n",
    "# List of strings to write\n",
    "lines = [\"Hello, World!\\n\", \"Welcome to Python programming.\\n\", \"Enjoy learning!\\n\"]\n",
    "\n",
    "# Write multiple lines to the file\n",
    "file.writelines(lines)\n",
    "\n",
    "# Close the file\n",
    "file.close()"
   ]
  }
 ],
 "metadata": {
  "kernelspec": {
   "display_name": "venv",
   "language": "python",
   "name": "python3"
  },
  "language_info": {
   "codemirror_mode": {
    "name": "ipython",
    "version": 3
   },
   "file_extension": ".py",
   "mimetype": "text/x-python",
   "name": "python",
   "nbconvert_exporter": "python",
   "pygments_lexer": "ipython3",
   "version": "3.13.3"
  }
 },
 "nbformat": 4,
 "nbformat_minor": 5
}
