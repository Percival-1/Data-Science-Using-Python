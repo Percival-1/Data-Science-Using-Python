{
 "cells": [
  {
   "cell_type": "code",
   "execution_count": 1,
   "id": "dc066de0",
   "metadata": {},
   "outputs": [],
   "source": [
    "import os"
   ]
  },
  {
   "cell_type": "code",
   "execution_count": 4,
   "id": "d97fbec0-4023-494a-87c5-b2094773e86a",
   "metadata": {},
   "outputs": [
    {
     "data": {
      "text/plain": [
       "'D:\\\\Python\\\\OS with Python'"
      ]
     },
     "execution_count": 4,
     "metadata": {},
     "output_type": "execute_result"
    }
   ],
   "source": [
    "os.getcwd()"
   ]
  },
  {
   "cell_type": "code",
   "execution_count": 1,
   "id": "ac503ad9",
   "metadata": {},
   "outputs": [
    {
     "data": {
      "text/plain": [
       "'D:\\\\Python\\\\OS with Python'"
      ]
     },
     "execution_count": 1,
     "metadata": {},
     "output_type": "execute_result"
    }
   ],
   "source": [
    "pwd"
   ]
  },
  {
   "cell_type": "code",
   "execution_count": 13,
   "id": "3d392b83-e5f5-4073-a96c-b541ed3081bd",
   "metadata": {},
   "outputs": [],
   "source": [
    "os.chdir(\"yo\")"
   ]
  },
  {
   "cell_type": "code",
   "execution_count": 14,
   "id": "e2b449b8-8dda-436d-bff3-c2a14d78e0f2",
   "metadata": {},
   "outputs": [
    {
     "data": {
      "text/plain": [
       "'D:\\\\Python\\\\OS with Python\\\\yo'"
      ]
     },
     "execution_count": 14,
     "metadata": {},
     "output_type": "execute_result"
    }
   ],
   "source": [
    "os.getcwd()"
   ]
  },
  {
   "cell_type": "code",
   "execution_count": 15,
   "id": "47eba082-8b8f-491b-9687-062ba2c304af",
   "metadata": {},
   "outputs": [],
   "source": [
    "os.chdir('guys')"
   ]
  },
  {
   "cell_type": "code",
   "execution_count": 16,
   "id": "e3c3013a-f723-4610-81b9-f0ea005a488e",
   "metadata": {},
   "outputs": [
    {
     "data": {
      "text/plain": [
       "'D:\\\\Python\\\\OS with Python\\\\yo\\\\guys'"
      ]
     },
     "execution_count": 16,
     "metadata": {},
     "output_type": "execute_result"
    }
   ],
   "source": [
    "os.getcwd()"
   ]
  },
  {
   "cell_type": "code",
   "execution_count": 17,
   "id": "22049a18-a1c9-4852-a99e-be4422d7a7cb",
   "metadata": {},
   "outputs": [],
   "source": [
    "os.chdir('../')"
   ]
  },
  {
   "cell_type": "code",
   "execution_count": 18,
   "id": "12507342-e647-474e-85cc-ca988aabbef4",
   "metadata": {},
   "outputs": [
    {
     "data": {
      "text/plain": [
       "'D:\\\\Python\\\\OS with Python\\\\yo'"
      ]
     },
     "execution_count": 18,
     "metadata": {},
     "output_type": "execute_result"
    }
   ],
   "source": [
    "os.getcwd()"
   ]
  },
  {
   "cell_type": "code",
   "execution_count": 19,
   "id": "808bf6e3-0933-4cc3-83d7-b8021599d713",
   "metadata": {},
   "outputs": [],
   "source": [
    "os.mkdir('gfg')"
   ]
  },
  {
   "cell_type": "code",
   "execution_count": 22,
   "id": "98b79044-6cfc-41bd-be8f-6eb5743107c4",
   "metadata": {},
   "outputs": [
    {
     "name": "stdout",
     "output_type": "stream",
     "text": [
      "gfg\n",
      "guys\n"
     ]
    }
   ],
   "source": [
    "!ls"
   ]
  },
  {
   "cell_type": "code",
   "execution_count": 23,
   "id": "ea6c138e-eb44-4dc8-a11b-7e0b5c73a96f",
   "metadata": {},
   "outputs": [],
   "source": [
    "os.makedirs('gfg/gfg')"
   ]
  },
  {
   "cell_type": "code",
   "execution_count": 2,
   "id": "dc111092-e349-4708-9f71-55106377266b",
   "metadata": {},
   "outputs": [
    {
     "data": {
      "text/plain": [
       "'gfg\\\\gfg'"
      ]
     },
     "execution_count": 2,
     "metadata": {},
     "output_type": "execute_result"
    }
   ],
   "source": [
    "os.path.join('gfg' , 'gfg')"
   ]
  },
  {
   "cell_type": "code",
   "execution_count": 3,
   "id": "c25cfd5d-2aed-468e-aea6-db20e6920157",
   "metadata": {},
   "outputs": [
    {
     "data": {
      "text/plain": [
       "'D:\\\\Python\\\\OS with Python'"
      ]
     },
     "execution_count": 3,
     "metadata": {},
     "output_type": "execute_result"
    }
   ],
   "source": [
    "os.getcwd()"
   ]
  },
  {
   "cell_type": "code",
   "execution_count": 4,
   "id": "4ed92601-828a-4a6d-805f-211d251c94a2",
   "metadata": {},
   "outputs": [],
   "source": [
    "os.remove('example.ipynb')"
   ]
  },
  {
   "cell_type": "code",
   "execution_count": 5,
   "id": "52559738-b86f-4eaa-ae57-886fe60ff744",
   "metadata": {},
   "outputs": [
    {
     "name": "stdout",
     "output_type": "stream",
     "text": [
      "Os.ipynb\n",
      "yo\n"
     ]
    }
   ],
   "source": [
    "!ls"
   ]
  },
  {
   "cell_type": "code",
   "execution_count": 7,
   "id": "cfd3d340-bac4-419a-b508-83973ce9ff82",
   "metadata": {},
   "outputs": [],
   "source": [
    "os.rmdir('yo/guys')"
   ]
  },
  {
   "cell_type": "code",
   "execution_count": 8,
   "id": "d65e32d7-41c7-47a6-a614-dc8301adc6b1",
   "metadata": {},
   "outputs": [
    {
     "data": {
      "text/plain": [
       "['.ipynb_checkpoints', 'Os.ipynb', 'yo']"
      ]
     },
     "execution_count": 8,
     "metadata": {},
     "output_type": "execute_result"
    }
   ],
   "source": [
    "os.listdir()"
   ]
  },
  {
   "cell_type": "code",
   "execution_count": 10,
   "id": "88a2d0a8-5168-4e6e-9690-70ce729f6c4b",
   "metadata": {},
   "outputs": [
    {
     "data": {
      "text/plain": [
       "['gfg']"
      ]
     },
     "execution_count": 10,
     "metadata": {},
     "output_type": "execute_result"
    }
   ],
   "source": [
    "os.listdir('yo')"
   ]
  },
  {
   "cell_type": "code",
   "execution_count": 11,
   "id": "f4c2367c-9846-4590-ac1f-cabdc90fd00c",
   "metadata": {},
   "outputs": [],
   "source": [
    "!touch hell.txt"
   ]
  },
  {
   "cell_type": "code",
   "execution_count": 12,
   "id": "aa1340a1-419d-4782-8411-ab560214031f",
   "metadata": {},
   "outputs": [],
   "source": [
    "os.rename('hell.txt' , 'hello.txt')"
   ]
  },
  {
   "cell_type": "code",
   "execution_count": 13,
   "id": "59819423-d3e0-49cb-b61a-399da0412a14",
   "metadata": {},
   "outputs": [
    {
     "data": {
      "text/plain": [
       "True"
      ]
     },
     "execution_count": 13,
     "metadata": {},
     "output_type": "execute_result"
    }
   ],
   "source": [
    "os.path.exists('yo/gfg')"
   ]
  },
  {
   "cell_type": "code",
   "execution_count": null,
   "id": "a9942764-75d3-4157-8be5-9b9caa5641f4",
   "metadata": {},
   "outputs": [],
   "source": []
  }
 ],
 "metadata": {
  "kernelspec": {
   "display_name": "Python 3 (ipykernel)",
   "language": "python",
   "name": "python3"
  },
  "language_info": {
   "codemirror_mode": {
    "name": "ipython",
    "version": 3
   },
   "file_extension": ".py",
   "mimetype": "text/x-python",
   "name": "python",
   "nbconvert_exporter": "python",
   "pygments_lexer": "ipython3",
   "version": "3.13.2"
  }
 },
 "nbformat": 4,
 "nbformat_minor": 5
}
