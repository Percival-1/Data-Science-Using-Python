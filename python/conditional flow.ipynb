{
 "cells": [
  {
   "cell_type": "code",
   "execution_count": 2,
   "id": "e6b34884-7ced-445a-b9b3-46d4cd286aa2",
   "metadata": {},
   "outputs": [
    {
     "name": "stdout",
     "output_type": "stream",
     "text": [
      "Enter a number :  5\n"
     ]
    },
    {
     "name": "stdout",
     "output_type": "stream",
     "text": [
      "the number is positive\n"
     ]
    }
   ],
   "source": [
    "n = int(input('Enter a number : '))\n",
    "if(n > 0):\n",
    "    print(\"the number is positive\")\n",
    "else:\n",
    "    print(\"the number is negative\")\n"
   ]
  },
  {
   "cell_type": "code",
   "execution_count": 3,
   "id": "19fc4e7f-e3bb-49e0-b2a1-ea712b043f02",
   "metadata": {},
   "outputs": [
    {
     "name": "stdout",
     "output_type": "stream",
     "text": [
      "Enter a number :  6\n"
     ]
    },
    {
     "name": "stdout",
     "output_type": "stream",
     "text": [
      "6 is positive\n"
     ]
    }
   ],
   "source": [
    "n = int(input('Enter a number : '))\n",
    "if(n > 0):\n",
    "    print(n , \"is positive\")\n",
    "else:\n",
    "    print(n , \"is negative\")"
   ]
  },
  {
   "cell_type": "code",
   "execution_count": 7,
   "id": "74a780ad-0e2b-4103-ab14-998051bea69c",
   "metadata": {},
   "outputs": [],
   "source": [
    "def utility(s):\n",
    "    for i in range(0 , len(s) , 2):\n",
    "        print(s[i] , end = \"\")\n"
   ]
  },
  {
   "cell_type": "code",
   "execution_count": 6,
   "id": "d1af5519-0894-4fcb-8d14-b83ab28de762",
   "metadata": {},
   "outputs": [],
   "source": [
    "def utility():\n",
    "    n = int(input())\n",
    "    ## in is a membership operator that is true if something is a member of sequence\n",
    "    for i in range(\n",
    "            1 , 11\n",
    "    ):  ## i in range(x,y,z) means i goes from x to y-1 and increments z steps in each iteration\n",
    "        print(i * n, end=\" \")  ## Separating by spaces using end =\" \""
   ]
  },
  {
   "cell_type": "markdown",
   "id": "11b70615",
   "metadata": {},
   "source": [
    "#for two dice\n"
   ]
  },
  {
   "cell_type": "code",
   "execution_count": null,
   "id": "65dea80f-2c88-4875-9e17-287eaad672ee",
   "metadata": {},
   "outputs": [
    {
     "name": "stdout",
     "output_type": "stream",
     "text": [
      "1 is 0.0\n",
      "2 is 2.78\n",
      "3 is 5.56\n",
      "4 is 8.33\n",
      "5 is 11.11\n",
      "6 is 13.89\n",
      "7 is 16.67\n",
      "8 is 13.89\n",
      "9 is 11.11\n",
      "10 is 8.33\n",
      "11 is 5.56\n",
      "12 is 2.78\n"
     ]
    }
   ],
   "source": [
    "for i in range(1 , 13):\n",
    "    number = 0\n",
    "    for j in range(1 , 7):\n",
    "        for k in range(1 , 7):\n",
    "            if(j + k == i):\n",
    "                number += 1\n",
    "    print(i , \"is\" , round((number/36)*100 , 2))"
   ]
  },
  {
   "cell_type": "markdown",
   "id": "b0c17877",
   "metadata": {},
   "source": [
    "# for three dice\n"
   ]
  },
  {
   "cell_type": "code",
   "execution_count": 8,
   "id": "08922dc8",
   "metadata": {},
   "outputs": [
    {
     "name": "stdout",
     "output_type": "stream",
     "text": [
      "1 is 0.0\n",
      "2 is 0.0\n",
      "3 is 0.46\n",
      "4 is 1.39\n",
      "5 is 2.78\n",
      "6 is 4.63\n",
      "7 is 6.94\n",
      "8 is 9.72\n",
      "9 is 11.57\n",
      "10 is 12.5\n",
      "11 is 12.5\n",
      "12 is 11.57\n",
      "13 is 9.72\n",
      "14 is 6.94\n",
      "15 is 4.63\n",
      "16 is 2.78\n",
      "17 is 1.39\n",
      "18 is 0.46\n"
     ]
    }
   ],
   "source": [
    "for n in range(1 , 19):  \n",
    "    number = 0\n",
    "    for i in range(1 , 7):\n",
    "        for j in range(1 , 7):\n",
    "            for k in range(1 , 7):\n",
    "                if(j + k + i == n):\n",
    "                    number += 1\n",
    "    print(n , \"is\" , round((number/216)*100 , 2))"
   ]
  },
  {
   "cell_type": "code",
   "execution_count": null,
   "id": "ceb6e0b2",
   "metadata": {},
   "outputs": [],
   "source": []
  }
 ],
 "metadata": {
  "kernelspec": {
   "display_name": "venv",
   "language": "python",
   "name": "python3"
  },
  "language_info": {
   "codemirror_mode": {
    "name": "ipython",
    "version": 3
   },
   "file_extension": ".py",
   "mimetype": "text/x-python",
   "name": "python",
   "nbconvert_exporter": "python",
   "pygments_lexer": "ipython3",
   "version": "3.13.3"
  }
 },
 "nbformat": 4,
 "nbformat_minor": 5
}
