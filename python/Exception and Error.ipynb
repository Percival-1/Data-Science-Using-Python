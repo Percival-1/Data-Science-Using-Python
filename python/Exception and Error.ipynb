{
 "cells": [
  {
   "cell_type": "markdown",
   "id": "56f4cb7e",
   "metadata": {},
   "source": [
    "# Exception and Error"
   ]
  },
  {
   "cell_type": "code",
   "execution_count": 1,
   "id": "78d11e33",
   "metadata": {},
   "outputs": [
    {
     "name": "stdout",
     "output_type": "stream",
     "text": [
      "Error: invalid literal for int() with base 10: 'abc'\n"
     ]
    }
   ],
   "source": [
    "try:\n",
    "    num = int(\"abc\")\n",
    "except ValueError as e:\n",
    "    print(f\"Error: {e}\")"
   ]
  },
  {
   "cell_type": "code",
   "execution_count": 6,
   "id": "e9a9fd50",
   "metadata": {},
   "outputs": [
    {
     "name": "stdout",
     "output_type": "stream",
     "text": [
      "1\n",
      "Zero Divivsion Error\n",
      "\n",
      "division by zero\n",
      "Program end!\n",
      "\n",
      "invalid literal for int() with base 10: '3.14'\n",
      "Program end!\n"
     ]
    }
   ],
   "source": [
    "x = 10\n",
    "try:\n",
    "    print(1)\n",
    "    print(x/0)\n",
    "    print(2)\n",
    "except:\n",
    "    print('Zero Divivsion Error')\n",
    "\n",
    "print()\n",
    "\n",
    "try:\n",
    "    x , y = 10 , 0\n",
    "    print(x/y)\n",
    "except ZeroDivisionError as e:\n",
    "    print(e)\n",
    "except Exception as e:\n",
    "    print(e)\n",
    "else:\n",
    "    print('Everything is fine!')\n",
    "finally:\n",
    "    print('Program end!')\n",
    "    \n",
    "print()\n",
    "\n",
    "try:\n",
    "    x , y = 10 , 0\n",
    "    print(int('3.14'))\n",
    "except ZeroDivisionError as e:\n",
    "    print(e)\n",
    "except Exception as e:\n",
    "    print(e)\n",
    "else:\n",
    "    print('Everything is fine!')\n",
    "finally:\n",
    "    print('Program end!')"
   ]
  }
 ],
 "metadata": {
  "kernelspec": {
   "display_name": "venv",
   "language": "python",
   "name": "python3"
  },
  "language_info": {
   "codemirror_mode": {
    "name": "ipython",
    "version": 3
   },
   "file_extension": ".py",
   "mimetype": "text/x-python",
   "name": "python",
   "nbconvert_exporter": "python",
   "pygments_lexer": "ipython3",
   "version": "3.13.3"
  }
 },
 "nbformat": 4,
 "nbformat_minor": 5
}
