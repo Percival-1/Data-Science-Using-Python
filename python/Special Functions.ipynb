{
 "cells": [
  {
   "cell_type": "markdown",
   "id": "4bf69abe",
   "metadata": {},
   "source": [
    "# Special Functions"
   ]
  },
  {
   "cell_type": "markdown",
   "id": "22d46518",
   "metadata": {},
   "source": [
    "# Zip"
   ]
  },
  {
   "cell_type": "code",
   "execution_count": null,
   "id": "e2eb9332",
   "metadata": {},
   "outputs": [
    {
     "name": "stdout",
     "output_type": "stream",
     "text": [
      "[('Ashish', 25), ('Ankur', 27), ('Avinash', 32)]\n",
      "[[[1, 2, 3]], [[4, 5, 6]], [[7, 8, 9]]]\n",
      "[[1, 4, 7], [2, 5, 8], [3, 6, 9]]\n",
      "[[1, 2, 3], [4, 5, 6], [7, 8, 9]]\n",
      "44\n"
     ]
    }
   ],
   "source": [
    "lst1 =['Ashish' , 'Ankur' , 'Avinash']\n",
    "lst2 = [25 , 27 , 32]\n",
    "\n",
    "print(list(zip(lst1 , lst2)))\n",
    "\n",
    "matrix = [[1 , 2 , 3] , [4 , 5 , 6] , [7,  8 , 9]]\n",
    "print([list(row) for row in zip(matrix)])\n",
    "print([list(row) for row in zip(*matrix)])\n",
    "print([list(row) for row in zip(*[list(row) for row in zip(*matrix)])])\n",
    "\n",
    "l1 = [2 , 4 , 6]\n",
    "l2 = [1 , 3 , 5]\n",
    "\n",
    "print(sum([i*j for i , j in zip(l1 , l2)]))"
   ]
  },
  {
   "cell_type": "markdown",
   "id": "b1722752",
   "metadata": {},
   "source": [
    "# Filter"
   ]
  },
  {
   "cell_type": "code",
   "execution_count": 11,
   "id": "b5ab65f0",
   "metadata": {},
   "outputs": [
    {
     "name": "stdout",
     "output_type": "stream",
     "text": [
      "[2, 4, 6, 8]\n"
     ]
    }
   ],
   "source": [
    "l = [1 , 2 , 3 , 4 , 5 , 6 , 7 , 8 , 9]\n",
    "def even(n):\n",
    "    if (n%2 == 0):\n",
    "        return True\n",
    "    return False\n",
    "print(list(filter(even , l)))"
   ]
  },
  {
   "cell_type": "markdown",
   "id": "8f6821cf",
   "metadata": {},
   "source": [
    "# Lambda"
   ]
  },
  {
   "cell_type": "code",
   "execution_count": 15,
   "id": "648ec213",
   "metadata": {},
   "outputs": [
    {
     "name": "stdout",
     "output_type": "stream",
     "text": [
      "6\n",
      "[2, 4, 6, 8]\n"
     ]
    }
   ],
   "source": [
    "add = lambda x , y : x*y\n",
    "print(add(2 , 3))\n",
    "\n",
    "num = [1 , 2 , 3 , 4 , 5 , 6 , 7 , 8 , 9]\n",
    "print(list(filter(lambda x:x%2 == 0 , num))) "
   ]
  },
  {
   "cell_type": "markdown",
   "id": "7378be47",
   "metadata": {},
   "source": [
    "# Map"
   ]
  },
  {
   "cell_type": "code",
   "execution_count": 17,
   "id": "aab67762",
   "metadata": {},
   "outputs": [
    {
     "name": "stdout",
     "output_type": "stream",
     "text": [
      "[1, 4, 9, 16, 25, 36, 49, 64, 81]\n",
      "[6, 3, 7, 3]\n"
     ]
    }
   ],
   "source": [
    "num = [1 , 2 , 3 , 4 , 5 , 6 , 7 , 8 , 9]\n",
    "\n",
    "def sq(n):\n",
    "    return n**2\n",
    "\n",
    "print(list(map(sq , num)))\n",
    "\n",
    "names = ['Ashish' , 'Bob' , 'Chandan' , 'Don']\n",
    "print(list(map(lambda x : len(x) , names)))"
   ]
  }
 ],
 "metadata": {
  "kernelspec": {
   "display_name": "venv",
   "language": "python",
   "name": "python3"
  },
  "language_info": {
   "codemirror_mode": {
    "name": "ipython",
    "version": 3
   },
   "file_extension": ".py",
   "mimetype": "text/x-python",
   "name": "python",
   "nbconvert_exporter": "python",
   "pygments_lexer": "ipython3",
   "version": "3.13.3"
  }
 },
 "nbformat": 4,
 "nbformat_minor": 5
}
